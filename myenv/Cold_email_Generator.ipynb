{
 "cells": [
  {
   "cell_type": "code",
   "execution_count": 1,
   "id": "cbd05938-e6c4-45b7-9891-2a94e29c6b66",
   "metadata": {},
   "outputs": [],
   "source": [
    "# pip install langchain"
   ]
  },
  {
   "cell_type": "code",
   "execution_count": 2,
   "id": "8ddb53e2-2e0e-4d90-8716-a5708b7d140f",
   "metadata": {},
   "outputs": [],
   "source": [
    "# pip install  langchain-groq"
   ]
  },
  {
   "cell_type": "code",
   "execution_count": 3,
   "id": "0221a8b9-9265-415f-a356-a09ce8fb3cfe",
   "metadata": {},
   "outputs": [
    {
     "name": "stdout",
     "output_type": "stream",
     "text": [
      "The first person to walk on the Moon was Neil Armstrong, an American astronaut and the mission commander of the Apollo 11 mission. He stepped onto the lunar surface on July 20, 1969, at 2:56 UTC (Coordinated Universal Time). Armstrong famously declared, \"That's one small step for man, one giant leap for mankind,\" as he became the first human to set foot on the Moon.\n",
      "\n",
      "Armstrong was followed by fellow astronaut Edwin \"Buzz\" Aldrin, who also walked on the Moon during the mission. Michael Collins, the third member of the Apollo 11 crew, remained in orbit around the Moon in the command module.\n",
      "\n",
      "Neil Armstrong's historic moonwalk lasted for about two and a half hours, during which he and Aldrin collected samples and conducted experiments on the lunar surface. Their mission marked a major milestone in space exploration and paved the way for future human spaceflight.\n"
     ]
    }
   ],
   "source": [
    "from langchain_groq import ChatGroq\n",
    "\n",
    "API_KEY = {API_Key}",
    "\n",
    "llm = ChatGroq(\n",
    "    model=\"llama-3.1-70b-versatile\",\n",
    "    temperature=0,\n",
    "    api_key = API_KEY\n",
    ")\n",
    "\n",
    "\n",
    "response = llm.invoke(\"who is the first person on moon\")\n",
    "print(response.content)"
   ]
  },
  {
   "cell_type": "code",
   "execution_count": 4,
   "id": "22f310d9-e419-4ff2-a831-b2831f86e726",
   "metadata": {},
   "outputs": [],
   "source": [
    "# pip install chromadb"
   ]
  },
  {
   "cell_type": "code",
   "execution_count": 5,
   "id": "5ace3696-a586-4390-aea6-d1553be7ca31",
   "metadata": {},
   "outputs": [],
   "source": [
    "# pip install langchain_community beautifulsoup4"
   ]
  },
  {
   "cell_type": "code",
   "execution_count": 6,
   "id": "686537a0-469d-43ea-9a2d-916a5be38ef0",
   "metadata": {},
   "outputs": [
    {
     "name": "stderr",
     "output_type": "stream",
     "text": [
      "USER_AGENT environment variable not set, consider setting it to identify your requests.\n"
     ]
    }
   ],
   "source": [
    "from langchain_community.document_loaders import WebBaseLoader\n",
    "\n",
    "loader = WebBaseLoader(\"https://www.google.com/about/careers/applications/jobs/results/121274223367725766-customer-engineering-manager-ii-startups-google-cloud\")\n",
    "page_data = loader.load().pop().page_content"
   ]
  },
  {
   "cell_type": "code",
   "execution_count": 7,
   "id": "3194c155-c2e1-4c28-a993-908b62891e01",
   "metadata": {},
   "outputs": [],
   "source": [
    "# page_data"
   ]
  },
  {
   "cell_type": "code",
   "execution_count": 8,
   "id": "a187668b-f656-49ce-900a-3a9a1ea69843",
   "metadata": {},
   "outputs": [
    {
     "name": "stdout",
     "output_type": "stream",
     "text": [
      "```\n",
      "{\n",
      "  \"role\": \"Customer Engineering Manager II, Startups, Google Cloud\",\n",
      "  \"experience\": \"10 years of experience with cloud native architecture in a customer-facing or support role\",\n",
      "  \"skills\": [\n",
      "    \"Experience with software lifecycles, building tools, and architecting and developing software for scalable, distributed systems, including data platform, AI/ML and infrastructure\",\n",
      "    \"Experience as a Pre-Sales Manager or a people manager in a technical customer-facing role within a professional services or Sales Engineering team\",\n",
      "    \"Experience managing a team through sales processes, operations and career development, including account mapping, quota setting, quarterly/annual performance management, and managing sensitive information\",\n",
      "    \"Experience engaging with, and presenting to, technical stakeholders and executive leaders, including tailoring and delivering compelling messages by audience, asking strategic questions, and leading conversations that drive business opportunity\"\n",
      "  ],\n",
      "  \"description\": \"Lead a team of Customer Engineers and build an inclusive and thriving growth culture. Focus on talent strategy and skills development to deliver on successful cloud transformation outcomes for our customers and accelerate business goals for your territory. Foster strong partnerships with key customers across the book of business. Provide leadership related to cloud, transformation, and relevant industry trends. Partner with Google Cloud Sales leadership to define technical Go-To-Market strategies and execution plan for the team's book of business. Balance technical leadership with operational excellence. Lead workload and opportunity review meetings and provide insight into how to achieve a technical agreement and migration strategy, working directly with our customers, partners, and prospects. Work cross-functionally across Google, our partners, and your team to resolve technical roadblocks including capacity needs, constraints and product challenges affecting customer satisfaction.\"\n",
      "}\n",
      "```\n"
     ]
    }
   ],
   "source": [
    "from langchain_core.prompts import PromptTemplate\n",
    "\n",
    "prompt_extract = PromptTemplate.from_template(\n",
    "    \"\"\"\n",
    "    SCRAPED TEXT FROM WEBSITE:\n",
    "    {page_data}\n",
    "    ### INSTRUCTION :\n",
    "    The scrapted text is from a job description on a website.\n",
    "    Your job is to the extract the job description and return in a JSON format containing the following keys : 'role' , 'exprience' , 'skills' and 'description'\n",
    "    Only return the valid json.\n",
    "    And Remember NO PREAMBLE:\n",
    "    \n",
    "    \"\"\"\n",
    ")\n",
    "\n",
    "chain_extract = prompt_extract | llm \n",
    "\n",
    "res = chain_extract.invoke(input={'page_data':page_data})\n",
    "print(res.content)\n"
   ]
  },
  {
   "cell_type": "code",
   "execution_count": 9,
   "id": "899dc2c1-6af7-409a-88a3-b6278d07b27c",
   "metadata": {},
   "outputs": [
    {
     "data": {
      "text/plain": [
       "str"
      ]
     },
     "execution_count": 9,
     "metadata": {},
     "output_type": "execute_result"
    }
   ],
   "source": [
    "type(res.content)"
   ]
  },
  {
   "cell_type": "code",
   "execution_count": 10,
   "id": "7f5f2b55-94aa-40f0-b8f0-53532b23d913",
   "metadata": {},
   "outputs": [
    {
     "data": {
      "text/plain": [
       "dict"
      ]
     },
     "execution_count": 10,
     "metadata": {},
     "output_type": "execute_result"
    }
   ],
   "source": [
    "from langchain_core.output_parsers import JsonOutputParser\n",
    "\n",
    "json_parser = JsonOutputParser()\n",
    "json_res = json_parser.parse(res.content)\n",
    "\n",
    "type(json_res)"
   ]
  },
  {
   "cell_type": "code",
   "execution_count": 11,
   "id": "3cd90e83-b371-4a1e-b606-dce228008ce0",
   "metadata": {},
   "outputs": [
    {
     "data": {
      "text/html": [
       "<div>\n",
       "<style scoped>\n",
       "    .dataframe tbody tr th:only-of-type {\n",
       "        vertical-align: middle;\n",
       "    }\n",
       "\n",
       "    .dataframe tbody tr th {\n",
       "        vertical-align: top;\n",
       "    }\n",
       "\n",
       "    .dataframe thead th {\n",
       "        text-align: right;\n",
       "    }\n",
       "</style>\n",
       "<table border=\"1\" class=\"dataframe\">\n",
       "  <thead>\n",
       "    <tr style=\"text-align: right;\">\n",
       "      <th></th>\n",
       "      <th>Techstack</th>\n",
       "      <th>Links</th>\n",
       "    </tr>\n",
       "  </thead>\n",
       "  <tbody>\n",
       "    <tr>\n",
       "      <th>0</th>\n",
       "      <td>React, Node.js, MongoDB</td>\n",
       "      <td>https://example.com/react-portfolio</td>\n",
       "    </tr>\n",
       "    <tr>\n",
       "      <th>1</th>\n",
       "      <td>Angular,.NET, SQL Server</td>\n",
       "      <td>https://example.com/angular-portfolio</td>\n",
       "    </tr>\n",
       "    <tr>\n",
       "      <th>2</th>\n",
       "      <td>Vue.js, Ruby on Rails, PostgreSQL</td>\n",
       "      <td>https://example.com/vue-portfolio</td>\n",
       "    </tr>\n",
       "    <tr>\n",
       "      <th>3</th>\n",
       "      <td>Python, Django, MySQL</td>\n",
       "      <td>https://example.com/python-portfolio</td>\n",
       "    </tr>\n",
       "    <tr>\n",
       "      <th>4</th>\n",
       "      <td>Java, Spring Boot, Oracle</td>\n",
       "      <td>https://example.com/java-portfolio</td>\n",
       "    </tr>\n",
       "  </tbody>\n",
       "</table>\n",
       "</div>"
      ],
      "text/plain": [
       "                           Techstack                                  Links\n",
       "0            React, Node.js, MongoDB    https://example.com/react-portfolio\n",
       "1           Angular,.NET, SQL Server  https://example.com/angular-portfolio\n",
       "2  Vue.js, Ruby on Rails, PostgreSQL      https://example.com/vue-portfolio\n",
       "3              Python, Django, MySQL   https://example.com/python-portfolio\n",
       "4          Java, Spring Boot, Oracle     https://example.com/java-portfolio"
      ]
     },
     "execution_count": 11,
     "metadata": {},
     "output_type": "execute_result"
    }
   ],
   "source": [
    "import pandas as pd\n",
    "\n",
    "df = pd.read_csv(\"./my_portfolio.csv\")\n",
    "df.head()"
   ]
  },
  {
   "cell_type": "code",
   "execution_count": 12,
   "id": "77265455-73e6-4f0b-a839-3dea2ee64b33",
   "metadata": {},
   "outputs": [],
   "source": [
    "import chromadb\n",
    "import uuid \n",
    "\n",
    "\n",
    "client = chromadb.PersistentClient('store')\n",
    "collection = client.get_or_create_collection(name=\"portfolio\")\n",
    "\n",
    "if not collection.count():\n",
    "    for _, row in df.iterrows():\n",
    "        collection.add(documents=['Techstack'],\n",
    "                       metadatas = {'links' : row['Links']},\n",
    "                       ids = [str(uuid.uuid4())])\n",
    "        \n"
   ]
  },
  {
   "cell_type": "code",
   "execution_count": 13,
   "id": "946b10ff-b125-4914-8486-c8899fc5200e",
   "metadata": {},
   "outputs": [],
   "source": [
    "job = json_res"
   ]
  },
  {
   "cell_type": "code",
   "execution_count": 14,
   "id": "d87f680c-7100-48b7-be84-86f407faa4a4",
   "metadata": {},
   "outputs": [
    {
     "data": {
      "text/plain": [
       "['Experience with software lifecycles, building tools, and architecting and developing software for scalable, distributed systems, including data platform, AI/ML and infrastructure',\n",
       " 'Experience as a Pre-Sales Manager or a people manager in a technical customer-facing role within a professional services or Sales Engineering team',\n",
       " 'Experience managing a team through sales processes, operations and career development, including account mapping, quota setting, quarterly/annual performance management, and managing sensitive information',\n",
       " 'Experience engaging with, and presenting to, technical stakeholders and executive leaders, including tailoring and delivering compelling messages by audience, asking strategic questions, and leading conversations that drive business opportunity']"
      ]
     },
     "execution_count": 14,
     "metadata": {},
     "output_type": "execute_result"
    }
   ],
   "source": [
    "job['skills']"
   ]
  },
  {
   "cell_type": "code",
   "execution_count": 15,
   "id": "60ed0c7f-02d9-4cbb-b632-22987c6f5d1a",
   "metadata": {},
   "outputs": [
    {
     "data": {
      "text/plain": [
       "[[{'links': 'https://example.com/react-native-portfolio'},\n",
       "  {'links': 'https://example.com/magento-portfolio'}],\n",
       " [{'links': 'https://example.com/react-native-portfolio'},\n",
       "  {'links': 'https://example.com/magento-portfolio'}],\n",
       " [{'links': 'https://example.com/react-native-portfolio'},\n",
       "  {'links': 'https://example.com/magento-portfolio'}],\n",
       " [{'links': 'https://example.com/react-native-portfolio'},\n",
       "  {'links': 'https://example.com/magento-portfolio'}]]"
      ]
     },
     "execution_count": 15,
     "metadata": {},
     "output_type": "execute_result"
    }
   ],
   "source": [
    "links = collection.query(\n",
    "    query_texts= job['skills'], # Chroma will embed this for you\n",
    "    n_results=2 # how many results to return\n",
    ").get('metadatas' ,[])\n",
    "\n",
    "links"
   ]
  },
  {
   "cell_type": "code",
   "execution_count": 16,
   "id": "4a1a8d90-c657-428c-93dc-ccddc1bb9962",
   "metadata": {},
   "outputs": [
    {
     "name": "stdout",
     "output_type": "stream",
     "text": [
      "Subject: Unlock Scalable Cloud Transformation with AtliQ\n",
      "\n",
      "Dear Hiring Manager for Customer Engineering Manager II, Startups, Google Cloud,\n",
      "\n",
      "I came across the job description for the Customer Engineering Manager II role at Google Cloud, and I was impressed by the emphasis on cloud native architecture, scalable distributed systems, and talent strategy. As a Business Development Executive at AtliQ, I'd like to introduce you to our AI & Software Consulting company, dedicated to facilitating seamless business process integration through automated tools.\n",
      "\n",
      "we've empowered numerous enterprises with tailored solutions, fostering scalability, process optimization, cost reduction, and heightened overall efficiency. Our expertise in cloud native architecture, software lifecycles, and data platform development aligns perfectly with the requirements of this role. We've successfully delivered projects involving scalable, distributed systems, AI/ML, and infrastructure development.\n",
      "\n",
      "I'd like to highlight a few relevant examples from our portfolio:\n",
      "\n",
      "* Our React Native expertise has enabled us to develop scalable mobile applications for various industries, including [link to React Native portfolio](https://example.com/react-native-portfolio).\n",
      "* Our experience with Magento has allowed us to create customized e-commerce solutions for businesses, resulting in improved customer satisfaction and increased revenue [link to Magento portfolio](https://example.com/magento-portfolio).\n",
      "\n",
      "AtliQ's capabilities can support your team in delivering successful cloud transformation outcomes for your customers and accelerating business goals. We can help you:\n",
      "\n",
      "* Develop and implement cloud native architectures\n",
      "* Build scalable, distributed systems\n",
      "* Integrate AI/ML and data platforms\n",
      "* Optimize software lifecycles and development processes\n",
      "\n",
      "I'd love to schedule a call to discuss how AtliQ can support your team's goals and objectives. Please let me know if you're interested, and we can schedule a time that suits you.\n",
      "\n",
      "Best regards,\n",
      "\n",
      "Likhit\n",
      "Business Development Executive\n",
      "\n",
      "[Your Email Address]\n",
      "[Your Phone Number]\n"
     ]
    }
   ],
   "source": [
    "promt_email = PromptTemplate.from_template(\n",
    "    \"\"\"\n",
    "    my Job Description is {job_description}\n",
    "\n",
    "    ## instruction\n",
    "    ### INSTRUCTION:\n",
    "        You are Likhit, a business development executive it is an AI & Software Consulting company dedicated to facilitating\n",
    "        the seamless integration of business processes through automated tools. \n",
    "        Over our experience, we have empowered numerous enterprises with tailored solutions, fostering scalability, \n",
    "        process optimization, cost reduction, and heightened overall efficiency. \n",
    "        Your job is to write a cold email to the client regarding the job mentioned above describing the capability of AtliQ \n",
    "        in fulfilling their needs.\n",
    "        Also add the most relevant ones from the following links to showcase Atliq's portfolio: {link_list}\n",
    "        Remember you are Mohan, BDE at AtliQ. \n",
    "        Do not provide a preamble.\n",
    "        ### EMAIL (NO PREAMBLE):\n",
    "    \"\"\"\n",
    ")\n",
    "\n",
    "chain_email = promt_email | llm \n",
    "\n",
    "res = chain_email.invoke({\n",
    "    \"job_description\" : str(job),\n",
    "    \"link_list\" : links\n",
    "    \n",
    "})\n",
    "\n",
    "\n",
    "print(res.content)"
   ]
  }
 ],
 "metadata": {
  "kernelspec": {
   "display_name": "Python 3 (ipykernel)",
   "language": "python",
   "name": "python3"
  },
  "language_info": {
   "codemirror_mode": {
    "name": "ipython",
    "version": 3
   },
   "file_extension": ".py",
   "mimetype": "text/x-python",
   "name": "python",
   "nbconvert_exporter": "python",
   "pygments_lexer": "ipython3",
   "version": "3.11.4"
  }
 },
 "nbformat": 4,
 "nbformat_minor": 5
}
